{
 "metadata": {
  "language_info": {
   "codemirror_mode": {
    "name": "ipython",
    "version": 3
   },
   "file_extension": ".py",
   "mimetype": "text/x-python",
   "name": "python",
   "nbconvert_exporter": "python",
   "pygments_lexer": "ipython3",
   "version": "3.7.7"
  },
  "orig_nbformat": 2,
  "kernelspec": {
   "name": "python377jvsc74a57bd0f5788fb63e48a4621cde5b3be15dcaf6f0d5ee7b501f686467f004cd5b136f59",
   "display_name": "Python 3.7.7 64-bit"
  },
  "metadata": {
   "interpreter": {
    "hash": "f5788fb63e48a4621cde5b3be15dcaf6f0d5ee7b501f686467f004cd5b136f59"
   }
  }
 },
 "nbformat": 4,
 "nbformat_minor": 2,
 "cells": [
  {
   "cell_type": "code",
   "execution_count": null,
   "metadata": {},
   "outputs": [],
   "source": [
    "import datetime\n",
    "day1 = datetime.datetime.date(datetime.datetime.now())\n",
    "day2 = str(datetime.datetime.now())[:10]\n",
    "print(day1, day2)"
   ]
  },
  {
   "cell_type": "code",
   "execution_count": null,
   "metadata": {},
   "outputs": [],
   "source": [
    "class DataSet(object):\n",
    "  @property\n",
    "  def method_with_property(self): ##含有@property\n",
    "      return 15\n",
    "  def method_without_property(self): ##不含@property\n",
    "      return 15\n",
    "\n",
    "l = DataSet()\n",
    "print(l.method_with_property) # 加了@property后，可以用调用属性的形式来调用方法,后面不需要加（）。\n",
    "print(l.method_without_property())  #没有加@property , 必须使用正常的调用方法的形式，即在后面加()\n",
    "# print(l.method_with_property()) #添加@property 后，这个方法就变成了一个属性，如果后面加入了()，那么就是当作函数来调用，而它却不是callable（可调用）的。"
   ]
  },
  {
   "source": [
    "class f:\n",
    "    def foo(self):\n",
    "        print('foo')\n",
    "    @classmethod\n",
    "    def foo2(cls):\n",
    "        cls().foo()\n",
    "# f.foo()\n",
    "f.foo2()"
   ],
   "cell_type": "code",
   "metadata": {},
   "execution_count": null,
   "outputs": []
  },
  {
   "cell_type": "code",
   "execution_count": null,
   "metadata": {},
   "outputs": [],
   "source": [
    "def log(func):\n",
    "  def wrapper():\n",
    "    # if login:\n",
    "    print('log开始 ...')\n",
    "    func()\n",
    "    print('log结束 ...')\n",
    "  return wrapper\n",
    "@log\n",
    "def test():\n",
    "  print('test ..')\n",
    "test()"
   ]
  },
  {
   "cell_type": "code",
   "execution_count": null,
   "metadata": {},
   "outputs": [],
   "source": [
    "import time, threading\n",
    "\n",
    "def threadjointest():\n",
    "    st_time = time.time()\n",
    "    t = []\n",
    "    for i in range(10):\n",
    "        a = threading.Thread(target=test(i))\n",
    "        a.setDaemon(True)\n",
    "        a.start()\n",
    "        t.append(a)\n",
    "    # for i in t:\n",
    "    #     i.join()\n",
    "    print('主线程结束！', threading.current_thread().name)\n",
    "    print('一共用时：', time.time() - st_time)\n",
    "def test(q):\n",
    "    time.sleep(1)\n",
    "    print(q)\n",
    "threadjointest()"
   ]
  },
  {
   "cell_type": "code",
   "execution_count": null,
   "metadata": {},
   "outputs": [],
   "source": [
    "def foo(a, b):\n",
    "    print(a+b)\n",
    "def foo(a):\n",
    "    print(a*a)\n",
    "foo(2)\n",
    "foo(5,2)\n",
    "# 不支持函数重载"
   ]
  },
  {
   "cell_type": "code",
   "execution_count": null,
   "metadata": {},
   "outputs": [],
   "source": [
    "A = [1,2,3]\n",
    "B = [6,5,4]\n",
    "\n",
    "a = zip(A,B)\n",
    "print(a)\n",
    "# python2中可以直接 print(zipped), python3 中改为 print(list(zipped))\n",
    "\n",
    "sort_zipped = sorted(a)\n",
    "# 先按 x[1] 进行排序，若 x[1] 相同，再按照 x[0] 排序，降序\n",
    "print(sort_zipped)\n",
    "\n",
    "result = zip(*sort_zipped)\n",
    "# 将 sort_zipped 拆分成两个元组，为 [(3,2,1),(4,5,6)]\n",
    "print(result)\n",
    " \n",
    "x_axis, y_axis = [list(x) for x in result]\n",
    "# 将拆分后的两个元组分别变成 list 列表，为 [3,2,1],[4,5,6]\n",
    "print(x_axis,y_axis)\n"
   ]
  },
  {
   "cell_type": "code",
   "execution_count": null,
   "metadata": {},
   "outputs": [],
   "source": [
    "A = {'a':[2,3,1,4,5],'b':[3,2,5,1,6]}\n",
    "\n",
    "d = zip(A['a'], A['b'])\n",
    "sort_d = sorted(d, key= lambda x:(x[1], x[0]), reverse=False)\n",
    "result = zip(*sort_d)\n",
    "A['a'], A['b'] = [list(x) for x in result]\n",
    "print(A)\n"
   ]
  },
  {
   "cell_type": "code",
   "execution_count": 1,
   "metadata": {},
   "outputs": [
    {
     "output_type": "stream",
     "name": "stdout",
     "text": [
      "1 2 3\n"
     ]
    }
   ],
   "source": [
    "a,b,c = (1,2,3)\n",
    "print(a,b,c)"
   ]
  },
  {
   "cell_type": "code",
   "execution_count": null,
   "metadata": {},
   "outputs": [],
   "source": []
  }
 ]
}